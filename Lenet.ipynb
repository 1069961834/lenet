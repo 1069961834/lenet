{
 "cells": [
  {
   "cell_type": "code",
   "execution_count": 1,
   "metadata": {
    "collapsed": false
   },
   "outputs": [
    {
     "name": "stderr",
     "output_type": "stream",
     "text": [
      "Using TensorFlow backend.\n"
     ]
    }
   ],
   "source": [
    "import keras"
   ]
  },
  {
   "cell_type": "code",
   "execution_count": 2,
   "metadata": {
    "collapsed": false
   },
   "outputs": [],
   "source": [
    "from keras.datasets import mnist\n",
    "(x_train, y_train), (x_test, y_test) = mnist.load_data()"
   ]
  },
  {
   "cell_type": "code",
   "execution_count": 3,
   "metadata": {
    "collapsed": false
   },
   "outputs": [],
   "source": [
    "y_train = keras.utils.to_categorical(y_train)\n",
    "y_test = keras.utils.to_categorical(y_test)"
   ]
  },
  {
   "cell_type": "code",
   "execution_count": 4,
   "metadata": {
    "collapsed": true
   },
   "outputs": [],
   "source": [
    "x_train = x_train / 255.\n",
    "x_test = x_test / 255."
   ]
  },
  {
   "cell_type": "code",
   "execution_count": 5,
   "metadata": {
    "collapsed": false
   },
   "outputs": [],
   "source": [
    "x_train = x_train.reshape(-1, 28, 28, 1)"
   ]
  },
  {
   "cell_type": "code",
   "execution_count": 6,
   "metadata": {
    "collapsed": true
   },
   "outputs": [],
   "source": [
    "x_test = x_test.reshape(-1, 28, 28, 1)"
   ]
  },
  {
   "cell_type": "code",
   "execution_count": 7,
   "metadata": {
    "collapsed": true
   },
   "outputs": [],
   "source": [
    "from keras.layers import Conv2D, MaxPool2D, Dense, Flatten\n",
    "from keras.models import Sequential"
   ]
  },
  {
   "cell_type": "code",
   "execution_count": 8,
   "metadata": {
    "collapsed": false
   },
   "outputs": [],
   "source": [
    "lenet = Sequential()\n",
    "lenet.add(Conv2D(6, kernel_size=3, strides=1, padding='same', input_shape=(28, 28, 1)))\n",
    "lenet.add(MaxPool2D(pool_size=2, strides=2))\n",
    "lenet.add(Conv2D(16, kernel_size=5, strides=1, padding='valid'))\n",
    "lenet.add(MaxPool2D(pool_size=2, strides=2))\n",
    "lenet.add(Flatten())\n",
    "lenet.add(Dense(120))\n",
    "lenet.add(Dense(84))\n",
    "lenet.add(Dense(10, activation='softmax'))"
   ]
  },
  {
   "cell_type": "code",
   "execution_count": 9,
   "metadata": {
    "collapsed": false
   },
   "outputs": [
    {
     "name": "stdout",
     "output_type": "stream",
     "text": [
      "_________________________________________________________________\n",
      "Layer (type)                 Output Shape              Param #   \n",
      "=================================================================\n",
      "conv2d_1 (Conv2D)            (None, 28, 28, 6)         60        \n",
      "_________________________________________________________________\n",
      "max_pooling2d_1 (MaxPooling2 (None, 14, 14, 6)         0         \n",
      "_________________________________________________________________\n",
      "conv2d_2 (Conv2D)            (None, 10, 10, 16)        2416      \n",
      "_________________________________________________________________\n",
      "max_pooling2d_2 (MaxPooling2 (None, 5, 5, 16)          0         \n",
      "_________________________________________________________________\n",
      "flatten_1 (Flatten)          (None, 400)               0         \n",
      "_________________________________________________________________\n",
      "dense_1 (Dense)              (None, 120)               48120     \n",
      "_________________________________________________________________\n",
      "dense_2 (Dense)              (None, 84)                10164     \n",
      "_________________________________________________________________\n",
      "dense_3 (Dense)              (None, 10)                850       \n",
      "=================================================================\n",
      "Total params: 61,610\n",
      "Trainable params: 61,610\n",
      "Non-trainable params: 0\n",
      "_________________________________________________________________\n"
     ]
    }
   ],
   "source": [
    "lenet.summary()"
   ]
  },
  {
   "cell_type": "code",
   "execution_count": 11,
   "metadata": {
    "collapsed": true
   },
   "outputs": [],
   "source": [
    "from keras.utils import plot_model\n",
    "plot_model(lenet, to_file='lenet.png', show_shapes=True)"
   ]
  },
  {
   "cell_type": "code",
   "execution_count": 10,
   "metadata": {
    "collapsed": false
   },
   "outputs": [],
   "source": [
    "lenet.compile('sgd', loss='categorical_crossentropy', metrics=['accuracy'])"
   ]
  },
  {
   "cell_type": "code",
   "execution_count": 11,
   "metadata": {
    "collapsed": false,
    "scrolled": false
   },
   "outputs": [
    {
     "name": "stdout",
     "output_type": "stream",
     "text": [
      "Train on 60000 samples, validate on 10000 samples\n",
      "Epoch 1/50\n",
      "60000/60000 [==============================] - 6s - loss: 0.5470 - acc: 0.8379 - val_loss: 0.2288 - val_acc: 0.9304\n",
      "Epoch 2/50\n",
      "60000/60000 [==============================] - 4s - loss: 0.1940 - acc: 0.9413 - val_loss: 0.1483 - val_acc: 0.9533\n",
      "Epoch 3/50\n",
      "60000/60000 [==============================] - 4s - loss: 0.1366 - acc: 0.9583 - val_loss: 0.1033 - val_acc: 0.9678\n",
      "Epoch 4/50\n",
      "60000/60000 [==============================] - 3s - loss: 0.1105 - acc: 0.9662 - val_loss: 0.0902 - val_acc: 0.9709\n",
      "Epoch 5/50\n",
      "60000/60000 [==============================] - 3s - loss: 0.0950 - acc: 0.9714 - val_loss: 0.0884 - val_acc: 0.9731\n",
      "Epoch 6/50\n",
      "60000/60000 [==============================] - 3s - loss: 0.0856 - acc: 0.9739 - val_loss: 0.0731 - val_acc: 0.9767\n",
      "Epoch 7/50\n",
      "60000/60000 [==============================] - 4s - loss: 0.0780 - acc: 0.9766 - val_loss: 0.0749 - val_acc: 0.9753\n",
      "Epoch 8/50\n",
      "60000/60000 [==============================] - 4s - loss: 0.0720 - acc: 0.9785 - val_loss: 0.0621 - val_acc: 0.9806\n",
      "Epoch 9/50\n",
      "60000/60000 [==============================] - 5s - loss: 0.0671 - acc: 0.9798 - val_loss: 0.0616 - val_acc: 0.9807\n",
      "Epoch 10/50\n",
      "60000/60000 [==============================] - 4s - loss: 0.0640 - acc: 0.9809 - val_loss: 0.0670 - val_acc: 0.9774\n",
      "Epoch 11/50\n",
      "60000/60000 [==============================] - 3s - loss: 0.0601 - acc: 0.9820 - val_loss: 0.0649 - val_acc: 0.9775\n",
      "Epoch 12/50\n",
      "60000/60000 [==============================] - 3s - loss: 0.0576 - acc: 0.9831 - val_loss: 0.0535 - val_acc: 0.9829\n",
      "Epoch 13/50\n",
      "60000/60000 [==============================] - 4s - loss: 0.0546 - acc: 0.9835 - val_loss: 0.0542 - val_acc: 0.9826\n",
      "Epoch 14/50\n",
      "60000/60000 [==============================] - 3s - loss: 0.0525 - acc: 0.9838 - val_loss: 0.0499 - val_acc: 0.9841\n",
      "Epoch 15/50\n",
      "60000/60000 [==============================] - 3s - loss: 0.0505 - acc: 0.9851 - val_loss: 0.0502 - val_acc: 0.9836\n",
      "Epoch 16/50\n",
      "60000/60000 [==============================] - 4s - loss: 0.0491 - acc: 0.9853 - val_loss: 0.0488 - val_acc: 0.9838\n",
      "Epoch 17/50\n",
      "60000/60000 [==============================] - 4s - loss: 0.0470 - acc: 0.9857 - val_loss: 0.0464 - val_acc: 0.9845\n",
      "Epoch 18/50\n",
      "60000/60000 [==============================] - 4s - loss: 0.0454 - acc: 0.9860 - val_loss: 0.0494 - val_acc: 0.9840\n",
      "Epoch 19/50\n",
      "60000/60000 [==============================] - 4s - loss: 0.0445 - acc: 0.9866 - val_loss: 0.0458 - val_acc: 0.9855\n",
      "Epoch 20/50\n",
      "60000/60000 [==============================] - 4s - loss: 0.0427 - acc: 0.9866 - val_loss: 0.0485 - val_acc: 0.9842\n",
      "Epoch 21/50\n",
      "60000/60000 [==============================] - 4s - loss: 0.0413 - acc: 0.9873 - val_loss: 0.0472 - val_acc: 0.9846\n",
      "Epoch 22/50\n",
      "60000/60000 [==============================] - 4s - loss: 0.0410 - acc: 0.9870 - val_loss: 0.0448 - val_acc: 0.9853\n",
      "Epoch 23/50\n",
      "60000/60000 [==============================] - 4s - loss: 0.0392 - acc: 0.9881 - val_loss: 0.0463 - val_acc: 0.9849\n",
      "Epoch 24/50\n",
      "60000/60000 [==============================] - 3s - loss: 0.0378 - acc: 0.9884 - val_loss: 0.0496 - val_acc: 0.9833\n",
      "Epoch 25/50\n",
      "60000/60000 [==============================] - 4s - loss: 0.0373 - acc: 0.9885 - val_loss: 0.0468 - val_acc: 0.9848\n",
      "Epoch 26/50\n",
      "60000/60000 [==============================] - 4s - loss: 0.0362 - acc: 0.9887 - val_loss: 0.0483 - val_acc: 0.9844\n",
      "Epoch 27/50\n",
      "60000/60000 [==============================] - 4s - loss: 0.0364 - acc: 0.9887 - val_loss: 0.0462 - val_acc: 0.9844\n",
      "Epoch 28/50\n",
      "60000/60000 [==============================] - 4s - loss: 0.0346 - acc: 0.9893 - val_loss: 0.0460 - val_acc: 0.9853\n",
      "Epoch 29/50\n",
      "60000/60000 [==============================] - 4s - loss: 0.0336 - acc: 0.9898 - val_loss: 0.0550 - val_acc: 0.9829\n",
      "Epoch 30/50\n",
      "60000/60000 [==============================] - 4s - loss: 0.0338 - acc: 0.9895 - val_loss: 0.0489 - val_acc: 0.9853\n",
      "Epoch 31/50\n",
      "60000/60000 [==============================] - 4s - loss: 0.0321 - acc: 0.9900 - val_loss: 0.0492 - val_acc: 0.9839\n",
      "Epoch 32/50\n",
      "60000/60000 [==============================] - 5s - loss: 0.0315 - acc: 0.9901 - val_loss: 0.0471 - val_acc: 0.9861\n",
      "Epoch 33/50\n",
      "60000/60000 [==============================] - 4s - loss: 0.0307 - acc: 0.9903 - val_loss: 0.0460 - val_acc: 0.9859\n",
      "Epoch 34/50\n",
      "60000/60000 [==============================] - 4s - loss: 0.0305 - acc: 0.9901 - val_loss: 0.0442 - val_acc: 0.9861\n",
      "Epoch 35/50\n",
      "60000/60000 [==============================] - 4s - loss: 0.0296 - acc: 0.9910 - val_loss: 0.0465 - val_acc: 0.9859\n",
      "Epoch 36/50\n",
      "60000/60000 [==============================] - 4s - loss: 0.0288 - acc: 0.9912 - val_loss: 0.0487 - val_acc: 0.9834\n",
      "Epoch 37/50\n",
      "60000/60000 [==============================] - 4s - loss: 0.0282 - acc: 0.9912 - val_loss: 0.0448 - val_acc: 0.9857\n",
      "Epoch 38/50\n",
      "60000/60000 [==============================] - 4s - loss: 0.0274 - acc: 0.9912 - val_loss: 0.0469 - val_acc: 0.9851\n",
      "Epoch 39/50\n",
      "60000/60000 [==============================] - 4s - loss: 0.0275 - acc: 0.9911 - val_loss: 0.0454 - val_acc: 0.9855\n",
      "Epoch 40/50\n",
      "60000/60000 [==============================] - 3s - loss: 0.0266 - acc: 0.9916 - val_loss: 0.0501 - val_acc: 0.9856\n",
      "Epoch 41/50\n",
      "60000/60000 [==============================] - 4s - loss: 0.0256 - acc: 0.9917 - val_loss: 0.0448 - val_acc: 0.9863\n",
      "Epoch 42/50\n",
      "60000/60000 [==============================] - 4s - loss: 0.0253 - acc: 0.9921 - val_loss: 0.0489 - val_acc: 0.9856\n",
      "Epoch 43/50\n",
      "60000/60000 [==============================] - 4s - loss: 0.0244 - acc: 0.9920 - val_loss: 0.0513 - val_acc: 0.9849\n",
      "Epoch 44/50\n",
      "60000/60000 [==============================] - 4s - loss: 0.0245 - acc: 0.9920 - val_loss: 0.0485 - val_acc: 0.9859\n",
      "Epoch 45/50\n",
      "60000/60000 [==============================] - 4s - loss: 0.0238 - acc: 0.9924 - val_loss: 0.0459 - val_acc: 0.9862\n",
      "Epoch 46/50\n",
      "60000/60000 [==============================] - 4s - loss: 0.0235 - acc: 0.9926 - val_loss: 0.0454 - val_acc: 0.9869\n",
      "Epoch 47/50\n",
      "60000/60000 [==============================] - 4s - loss: 0.0228 - acc: 0.9924 - val_loss: 0.0455 - val_acc: 0.9860\n",
      "Epoch 48/50\n",
      "60000/60000 [==============================] - 3s - loss: 0.0226 - acc: 0.9925 - val_loss: 0.0461 - val_acc: 0.9867\n",
      "Epoch 49/50\n",
      "60000/60000 [==============================] - 4s - loss: 0.0217 - acc: 0.9930 - val_loss: 0.0501 - val_acc: 0.9856\n",
      "Epoch 50/50\n",
      "60000/60000 [==============================] - 3s - loss: 0.0218 - acc: 0.9930 - val_loss: 0.0525 - val_acc: 0.9844\n"
     ]
    },
    {
     "data": {
      "text/plain": [
       "<keras.callbacks.History at 0x7f11feda7358>"
      ]
     },
     "execution_count": 11,
     "metadata": {},
     "output_type": "execute_result"
    }
   ],
   "source": [
    "lenet.fit(x_train, y_train, batch_size=64, epochs=50, validation_data=[x_test, y_test])"
   ]
  },
  {
   "cell_type": "code",
   "execution_count": 14,
   "metadata": {
    "collapsed": true
   },
   "outputs": [],
   "source": [
    "lenet.save('myletnet.h5')"
   ]
  }
 ],
 "metadata": {
  "anaconda-cloud": {},
  "kernelspec": {
   "display_name": "Python [conda env:mx]",
   "language": "python",
   "name": "conda-env-mx-py"
  },
  "language_info": {
   "codemirror_mode": {
    "name": "ipython",
    "version": 3
   },
   "file_extension": ".py",
   "mimetype": "text/x-python",
   "name": "python",
   "nbconvert_exporter": "python",
   "pygments_lexer": "ipython3",
   "version": "3.6.1"
  }
 },
 "nbformat": 4,
 "nbformat_minor": 2
}
